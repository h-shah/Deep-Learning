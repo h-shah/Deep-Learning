{
 "cells": [
  {
   "cell_type": "markdown",
   "metadata": {
    "colab_type": "text",
    "id": "kR-4eNdK6lYS"
   },
   "source": [
    "Deep Learning\n",
    "=============\n",
    "\n",
    "Assignment 3\n",
    "------------\n",
    "\n",
    "Previously in `2_fullyconnected.ipynb`, you trained a logistic regression and a neural network model.\n",
    "\n",
    "The goal of this assignment is to explore regularization techniques."
   ]
  },
  {
   "cell_type": "code",
   "execution_count": 1,
   "metadata": {
    "cellView": "both",
    "colab": {
     "autoexec": {
      "startup": false,
      "wait_interval": 0
     }
    },
    "colab_type": "code",
    "collapsed": true,
    "id": "JLpLa8Jt7Vu4"
   },
   "outputs": [],
   "source": [
    "# These are all the modules we'll be using later. Make sure you can import them\n",
    "# before proceeding further.\n",
    "from __future__ import print_function\n",
    "import numpy as np\n",
    "import tensorflow as tf\n",
    "from six.moves import cPickle as pickle\n",
    "import winsound"
   ]
  },
  {
   "cell_type": "markdown",
   "metadata": {
    "colab_type": "text",
    "id": "1HrCK6e17WzV"
   },
   "source": [
    "First reload the data we generated in `1_notmnist.ipynb`."
   ]
  },
  {
   "cell_type": "code",
   "execution_count": 2,
   "metadata": {
    "cellView": "both",
    "colab": {
     "autoexec": {
      "startup": false,
      "wait_interval": 0
     },
     "output_extras": [
      {
       "item_id": 1
      }
     ]
    },
    "colab_type": "code",
    "executionInfo": {
     "elapsed": 11777,
     "status": "ok",
     "timestamp": 1449849322348,
     "user": {
      "color": "",
      "displayName": "",
      "isAnonymous": false,
      "isMe": true,
      "permissionId": "",
      "photoUrl": "",
      "sessionId": "0",
      "userId": ""
     },
     "user_tz": 480
    },
    "id": "y3-cj1bpmuxc",
    "outputId": "e03576f1-ebbe-4838-c388-f1777bcc9873"
   },
   "outputs": [
    {
     "name": "stdout",
     "output_type": "stream",
     "text": [
      "Training set (300000, 28, 28) (300000,)\n",
      "Validation set (10000, 28, 28) (10000,)\n",
      "Test set (10000, 28, 28) (10000,)\n"
     ]
    }
   ],
   "source": [
    "pickle_file = 'D:/Libraries/Documents/Tensorflow/notMNIST_data/notMNIST.pickle'\n",
    "\n",
    "with open(pickle_file, 'rb') as f:\n",
    "  save = pickle.load(f)\n",
    "  train_dataset = save['train_dataset']\n",
    "  train_labels = save['train_labels']\n",
    "  valid_dataset = save['valid_dataset']\n",
    "  valid_labels = save['valid_labels']\n",
    "  test_dataset = save['test_dataset']\n",
    "  test_labels = save['test_labels']\n",
    "  del save  # hint to help gc free up memory\n",
    "  print('Training set', train_dataset.shape, train_labels.shape)\n",
    "  print('Validation set', valid_dataset.shape, valid_labels.shape)\n",
    "  print('Test set', test_dataset.shape, test_labels.shape)"
   ]
  },
  {
   "cell_type": "markdown",
   "metadata": {
    "colab_type": "text",
    "id": "L7aHrm6nGDMB"
   },
   "source": [
    "Reformat into a shape that's more adapted to the models we're going to train:\n",
    "- data as a flat matrix,\n",
    "- labels as float 1-hot encodings."
   ]
  },
  {
   "cell_type": "code",
   "execution_count": 3,
   "metadata": {
    "cellView": "both",
    "colab": {
     "autoexec": {
      "startup": false,
      "wait_interval": 0
     },
     "output_extras": [
      {
       "item_id": 1
      }
     ]
    },
    "colab_type": "code",
    "executionInfo": {
     "elapsed": 11728,
     "status": "ok",
     "timestamp": 1449849322356,
     "user": {
      "color": "",
      "displayName": "",
      "isAnonymous": false,
      "isMe": true,
      "permissionId": "",
      "photoUrl": "",
      "sessionId": "0",
      "userId": ""
     },
     "user_tz": 480
    },
    "id": "IRSyYiIIGIzS",
    "outputId": "3f8996ee-3574-4f44-c953-5c8a04636582"
   },
   "outputs": [
    {
     "name": "stdout",
     "output_type": "stream",
     "text": [
      "Training set (300000, 784) (300000, 10)\n",
      "Validation set (10000, 784) (10000, 10)\n",
      "Test set (10000, 784) (10000, 10)\n"
     ]
    }
   ],
   "source": [
    "image_size = 28\n",
    "num_labels = 10\n",
    "\n",
    "def reformat(dataset, labels):\n",
    "  dataset = dataset.reshape((-1, image_size * image_size)).astype(np.float32)\n",
    "  # Map 1 to [0.0, 1.0, 0.0 ...], 2 to [0.0, 0.0, 1.0 ...]\n",
    "  labels = (np.arange(num_labels) == labels[:,None]).astype(np.float32)\n",
    "  return dataset, labels\n",
    "train_dataset, train_labels = reformat(train_dataset, train_labels)\n",
    "valid_dataset, valid_labels = reformat(valid_dataset, valid_labels)\n",
    "test_dataset, test_labels = reformat(test_dataset, test_labels)\n",
    "print('Training set', train_dataset.shape, train_labels.shape)\n",
    "print('Validation set', valid_dataset.shape, valid_labels.shape)\n",
    "print('Test set', test_dataset.shape, test_labels.shape)"
   ]
  },
  {
   "cell_type": "code",
   "execution_count": 27,
   "metadata": {
    "cellView": "both",
    "colab": {
     "autoexec": {
      "startup": false,
      "wait_interval": 0
     }
    },
    "colab_type": "code",
    "collapsed": true,
    "id": "RajPLaL_ZW6w"
   },
   "outputs": [],
   "source": [
    "def accuracy(predictions, labels):\n",
    "  return (100.0 * np.sum(np.argmax(predictions, 1) == np.argmax(labels, 1))\n",
    "          / labels.shape[0])"
   ]
  },
  {
   "cell_type": "code",
   "execution_count": 5,
   "metadata": {
    "collapsed": true
   },
   "outputs": [],
   "source": [
    "def randomize(dataset, labels):\n",
    "  permutation = np.random.permutation(labels.shape[0])\n",
    "  shuffled_dataset = dataset[permutation,:]\n",
    "  shuffled_labels = labels[permutation]\n",
    "  return shuffled_dataset, shuffled_labels\n",
    "train_dataset, train_labels = randomize(train_dataset, train_labels)\n",
    "test_dataset, test_labels = randomize(test_dataset, test_labels)\n",
    "valid_dataset, valid_labels = randomize(valid_dataset, valid_labels)"
   ]
  },
  {
   "cell_type": "markdown",
   "metadata": {
    "colab_type": "text",
    "id": "sgLbUAQ1CW-1"
   },
   "source": [
    "---\n",
    "Problem 1\n",
    "---------\n",
    "\n",
    "Introduce and tune L2 regularization for both logistic and neural network models. Remember that L2 amounts to adding a penalty on the norm of the weights to the loss. In TensorFlow, you can compute the L2 loss for a tensor `t` using `nn.l2_loss(t)`. The right amount of regularization should improve your validation / test accuracy.\n",
    "\n",
    "---"
   ]
  },
  {
   "cell_type": "code",
   "execution_count": 28,
   "metadata": {
    "collapsed": true
   },
   "outputs": [],
   "source": [
    "batch_size = 128\n",
    "reg_constant = .002\n",
    "\n",
    "graph = tf.Graph()\n",
    "with graph.as_default():\n",
    "\n",
    "  # Input data. For the training data, we use a placeholder that will be fed\n",
    "  # at run time with a training minibatch.\n",
    "  tf_train_dataset = tf.placeholder(tf.float32,\n",
    "                                    shape=(batch_size, image_size * image_size))\n",
    "  tf_train_labels = tf.placeholder(tf.float32, shape=(batch_size, num_labels))\n",
    "  tf_valid_dataset = tf.constant(valid_dataset)\n",
    "  tf_test_dataset = tf.constant(test_dataset)\n",
    "  \n",
    "  # Variables.\n",
    "  weights = tf.Variable(\n",
    "    tf.truncated_normal([image_size * image_size, num_labels]))\n",
    "  biases = tf.Variable(tf.zeros([num_labels]))\n",
    "  \n",
    "  # Training computation.\n",
    "  logits = tf.matmul(tf_train_dataset, weights) + biases\n",
    "  loss = tf.reduce_mean(\n",
    "    tf.nn.softmax_cross_entropy_with_logits(labels=tf_train_labels, logits=logits)\n",
    "  )+reg_constant*tf.nn.l2_loss(t=weights)\n",
    "  \n",
    "  # Optimizer\n",
    "  optimizer = tf.train.GradientDescentOptimizer(0.1).minimize(loss)\n",
    "  \n",
    "  # Predictions for the training, validation, and test data.\n",
    "  train_prediction = tf.nn.softmax(logits)\n",
    "  valid_prediction = tf.nn.softmax(\n",
    "    tf.matmul(tf_valid_dataset, weights) + biases)\n",
    "  test_prediction = tf.nn.softmax(tf.matmul(tf_test_dataset, weights) + biases)"
   ]
  },
  {
   "cell_type": "code",
   "execution_count": 29,
   "metadata": {
    "scrolled": false
   },
   "outputs": [
    {
     "name": "stdout",
     "output_type": "stream",
     "text": [
      "Initialized\n",
      "Minibatch loss at step 0: 25.487446\n",
      "Minibatch accuracy: 5.5%\n",
      "Validation accuracy: 8.0%\n",
      "Minibatch loss at step 500: 6.252701\n",
      "Minibatch accuracy: 74.2%\n",
      "Validation accuracy: 70.8%\n",
      "Minibatch loss at step 1000: 5.261687\n",
      "Minibatch accuracy: 68.8%\n",
      "Validation accuracy: 74.0%\n",
      "Minibatch loss at step 1500: 4.420434\n",
      "Minibatch accuracy: 73.4%\n",
      "Validation accuracy: 75.1%\n",
      "Minibatch loss at step 2000: 3.089041\n",
      "Minibatch accuracy: 85.2%\n",
      "Validation accuracy: 76.2%\n",
      "Minibatch loss at step 2500: 2.575495\n",
      "Minibatch accuracy: 78.9%\n",
      "Validation accuracy: 77.2%\n",
      "Minibatch loss at step 3000: 2.052206\n",
      "Minibatch accuracy: 82.0%\n",
      "Validation accuracy: 77.7%\n",
      "Test accuracy: 85.2%\n"
     ]
    }
   ],
   "source": [
    "num_steps = 3001\n",
    "best_valid_acc = 0.0\n",
    "\n",
    "with tf.Session(graph=graph) as session:\n",
    "  tf.global_variables_initializer().run()\n",
    "  print(\"Initialized\")\n",
    "  for step in range(num_steps):\n",
    "    # Pick an offset within the training data, which has been randomized.\n",
    "    # Note: we could use better randomization across epochs.\n",
    "    offset = (step * batch_size) % (train_labels.shape[0] - batch_size)\n",
    "    # Generate a minibatch.\n",
    "    batch_data = train_dataset[offset:(offset + batch_size), :]\n",
    "    batch_labels = train_labels[offset:(offset + batch_size), :]\n",
    "    # Prepare a dictionary telling the session where to feed the minibatch.\n",
    "    # The key of the dictionary is the placeholder node of the graph to be fed,\n",
    "    # and the value is the numpy array to feed to it.\n",
    "    feed_dict = {tf_train_dataset : batch_data, tf_train_labels : batch_labels}\n",
    "    _, l, predictions = session.run(\n",
    "      [optimizer, loss, train_prediction], feed_dict=feed_dict)\n",
    "    if (step % 500 == 0):\n",
    "          print(\"Minibatch loss at step %d: %f\" % (step, l))\n",
    "          print(\"Minibatch accuracy: %.1f%%\" % accuracy(predictions, batch_labels))\n",
    "          valid_eval = accuracy(valid_prediction.eval(), valid_labels)\n",
    "          print(\"Validation accuracy: %.1f%%\" % valid_eval)\n",
    "          if valid_eval < best_valid_acc:\n",
    "                if(valid_eval < best_valid_acc - 2):\n",
    "                    break;\n",
    "          else:\n",
    "                best_valid_acc = valid_eval\n",
    "  print(\"Test accuracy: %.1f%%\" % accuracy(test_prediction.eval(), test_labels))\n",
    "  single_layer_weights = weights.eval()"
   ]
  },
  {
   "cell_type": "markdown",
   "metadata": {},
   "source": [
    "Now the neural-network model"
   ]
  },
  {
   "cell_type": "code",
   "execution_count": 8,
   "metadata": {
    "collapsed": true
   },
   "outputs": [],
   "source": [
    "batch_size = 128\n",
    "num_hidden_nodes = 2048\n",
    "learning_rate=.01\n",
    "reg_constant = .05\n",
    "\n",
    "graph = tf.Graph()\n",
    "with graph.as_default():\n",
    "    \n",
    "    #Constant Testing and Validation Data\n",
    "    tf_test_data = tf.constant(test_dataset)\n",
    "    tf_valid_data = tf.constant(valid_dataset)\n",
    "    \n",
    "    #Batch input training data for stochastic gradient descent\n",
    "    tf_training_data = tf.placeholder(dtype=tf.float32,shape=(batch_size, image_size*image_size))\n",
    "    tf_training_labels = tf.placeholder(dtype=tf.float32,shape=(batch_size,num_labels))\n",
    "    \n",
    "    #Variable weights to be optimized. Two layers\n",
    "    weights1 = tf.Variable(tf.truncated_normal([image_size*image_size,num_hidden_nodes]))\n",
    "    weights2 = tf.Variable(tf.truncated_normal([num_hidden_nodes,num_labels]))\n",
    "    biases1 = tf.Variable(tf.zeros(num_hidden_nodes))\n",
    "    biases2 = tf.Variable(tf.zeros(num_labels))\n",
    "    \n",
    "    \n",
    "    #Creating graph structure\n",
    "    hidden_layer_out = tf.nn.relu(tf.matmul(tf_training_data, weights1)+biases1)\n",
    "    logits = tf.matmul(hidden_layer_out,weights2)+biases2\n",
    "    loss = tf.reduce_mean(\n",
    "        tf.nn.softmax_cross_entropy_with_logits(logits=logits,labels=tf_training_labels)\n",
    "    )+ reg_constant*tf.nn.l2_loss(t=weights1)+reg_constant*tf.nn.l2_loss(weights2)\n",
    "    \n",
    "    #Optimizer\n",
    "    optimizer = tf.train.GradientDescentOptimizer(learning_rate).minimize(loss=loss)\n",
    "    \n",
    "    #Output predictions\n",
    "    tf_train_preds = tf.nn.softmax(logits)\n",
    "    tf_test_preds = tf.nn.softmax(tf.matmul(tf.nn.relu(\n",
    "        tf.matmul(tf_test_data,weights1)+biases1),weights2)+biases2)\n",
    "    tf_valid_preds = tf.nn.softmax(tf.matmul(tf.nn.relu(\n",
    "        tf.matmul(tf_valid_data,weights1)+biases1),weights2)+biases2)\n",
    "    \n",
    "\n",
    "\n"
   ]
  },
  {
   "cell_type": "code",
   "execution_count": 9,
   "metadata": {
    "scrolled": true
   },
   "outputs": [
    {
     "name": "stdout",
     "output_type": "stream",
     "text": [
      "Minibatch loss at step 0: 31931.083984\n",
      "Minibatch accuracy: 9.4%\n",
      "Validation accuracy: 12.7%\n",
      "Minibatch loss at step 1000: 11572.437500\n",
      "Minibatch accuracy: 78.9%\n",
      "Validation accuracy: 78.6%\n",
      "Minibatch loss at step 2000: 4249.183105\n",
      "Minibatch accuracy: 82.0%\n",
      "Validation accuracy: 80.0%\n",
      "Minibatch loss at step 3000: 1561.216797\n",
      "Minibatch accuracy: 85.9%\n",
      "Validation accuracy: 81.2%\n",
      "Test accuracy: 88.6%\n"
     ]
    }
   ],
   "source": [
    "num_steps = 3001\n",
    "best_valid_acc = 0.0\n",
    "\n",
    "with tf.Session(graph=graph) as session:\n",
    "    \n",
    "    tf.global_variables_initializer().run()\n",
    "    \n",
    "    for step in range(num_steps):\n",
    "        #not the best randomization once you have >1 epoch, but works\n",
    "        offset = (step * batch_size) % (train_labels.shape[0] - batch_size)\n",
    "        \n",
    "        #generate batches\n",
    "        batch_data = train_dataset[offset:(offset + batch_size), :]\n",
    "        batch_labels = train_labels[offset:(offset + batch_size), :].squeeze()\n",
    "        \n",
    "        #create feed-dictionary\n",
    "        feed_dict = {tf_training_data: batch_data, tf_training_labels: batch_labels}\n",
    "        \n",
    "        #run session\n",
    "        _, l, predictions = session.run([optimizer, loss, tf_train_preds], feed_dict=feed_dict)\n",
    "        if (step % 1000 == 0):\n",
    "            valid_eval = accuracy(tf_valid_preds.eval(), valid_labels)\n",
    "            print(\"Minibatch loss at step %d: %f\" % (step, l))\n",
    "            print(\"Minibatch accuracy: %.1f%%\" % accuracy(predictions, batch_labels))\n",
    "            print(\"Validation accuracy: %.1f%%\" % valid_eval)\n",
    "            if valid_eval < best_valid_acc:\n",
    "                if(valid_eval < best_valid_acc-1):\n",
    "                    break;\n",
    "            else:\n",
    "                best_valid_acc = valid_eval\n",
    "          \n",
    "    print(\"Test accuracy: %.1f%%\" % accuracy(tf_test_preds.eval(), test_labels))\n",
    "    winsound.Beep(500,1000)\n",
    "        \n"
   ]
  },
  {
   "cell_type": "markdown",
   "metadata": {
    "colab_type": "text",
    "id": "na8xX2yHZzNF"
   },
   "source": [
    "---\n",
    "Problem 2\n",
    "---------\n",
    "Let's demonstrate an extreme case of overfitting. Restrict your training data to just a few batches. The training accuracy increases drastically, while the validation and test accuracies fall\n",
    "\n",
    "---"
   ]
  },
  {
   "cell_type": "code",
   "execution_count": 10,
   "metadata": {
    "collapsed": true
   },
   "outputs": [],
   "source": [
    "batch_size = 128\n",
    "reg_constant = .002\n",
    "\n",
    "graph = tf.Graph()\n",
    "with graph.as_default():\n",
    "\n",
    "  # Input data. For the training data, we use a placeholder that will be fed\n",
    "  # at run time with a training minibatch.\n",
    "  tf_train_dataset = tf.placeholder(tf.float32,\n",
    "                                    shape=(batch_size, image_size * image_size))\n",
    "  tf_train_labels = tf.placeholder(tf.float32, shape=(batch_size, num_labels))\n",
    "  tf_valid_dataset = tf.constant(valid_dataset)\n",
    "  tf_test_dataset = tf.constant(test_dataset)\n",
    "  \n",
    "  # Variables.\n",
    "  weights = tf.Variable(\n",
    "    tf.truncated_normal([image_size * image_size, num_labels]))\n",
    "  biases = tf.Variable(tf.zeros([num_labels]))\n",
    "  \n",
    "  # Training computation.\n",
    "  logits = tf.matmul(tf_train_dataset, weights) + biases\n",
    "  loss = tf.reduce_mean(\n",
    "    tf.nn.softmax_cross_entropy_with_logits(labels=tf_train_labels, logits=logits)\n",
    "  )+reg_constant*tf.nn.l2_loss(t=weights)\n",
    "  \n",
    "  # Optimizer.\n",
    "  optimizer = tf.train.GradientDescentOptimizer(0.5).minimize(loss)\n",
    "  \n",
    "  # Predictions for the training, validation, and test data.\n",
    "  train_prediction = tf.nn.softmax(logits)\n",
    "  valid_prediction = tf.nn.softmax(\n",
    "    tf.matmul(tf_valid_dataset, weights) + biases)\n",
    "  test_prediction = tf.nn.softmax(tf.matmul(tf_test_dataset, weights) + biases)"
   ]
  },
  {
   "cell_type": "code",
   "execution_count": 11,
   "metadata": {},
   "outputs": [
    {
     "name": "stdout",
     "output_type": "stream",
     "text": [
      "Initialized\n",
      "Minibatch loss at step 0: 21.511654\n",
      "Minibatch accuracy: 8.6%\n",
      "Validation accuracy: 10.8%\n",
      "Minibatch loss at step 500: 2.472050\n",
      "Minibatch accuracy: 92.2%\n",
      "Validation accuracy: 71.7%\n",
      "Minibatch loss at step 1000: 1.049329\n",
      "Minibatch accuracy: 94.5%\n",
      "Validation accuracy: 73.7%\n",
      "Minibatch loss at step 1500: 0.564006\n",
      "Minibatch accuracy: 96.9%\n",
      "Validation accuracy: 75.2%\n",
      "Minibatch loss at step 2000: 0.397564\n",
      "Minibatch accuracy: 96.9%\n",
      "Validation accuracy: 75.9%\n",
      "Minibatch loss at step 2500: 0.339367\n",
      "Minibatch accuracy: 96.9%\n",
      "Validation accuracy: 76.3%\n",
      "Minibatch loss at step 3000: 0.318734\n",
      "Minibatch accuracy: 96.9%\n",
      "Validation accuracy: 76.5%\n",
      "Test accuracy: 84.3%\n"
     ]
    }
   ],
   "source": [
    "num_steps = 3001\n",
    "best_valid_acc = 0.0\n",
    "\n",
    "with tf.Session(graph=graph) as session:\n",
    "  tf.global_variables_initializer().run()\n",
    "  print(\"Initialized\")\n",
    "  for step in range(num_steps):\n",
    "    # Pick an offset within the training data, which has been randomized.\n",
    "    # Note: we could use better randomization across epochs.\n",
    "    offset = (step * batch_size) % (1000)\n",
    "    # Generate a minibatch.\n",
    "    batch_data = train_dataset[offset:(offset + batch_size), :]\n",
    "    batch_labels = train_labels[offset:(offset + batch_size), :]\n",
    "    # Prepare a dictionary telling the session where to feed the minibatch.\n",
    "    # The key of the dictionary is the placeholder node of the graph to be fed,\n",
    "    # and the value is the numpy array to feed to it.\n",
    "    feed_dict = {tf_train_dataset : batch_data, tf_train_labels : batch_labels}\n",
    "    _, l, predictions = session.run(\n",
    "      [optimizer, loss, train_prediction], feed_dict=feed_dict)\n",
    "    if (step % 500 == 0):\n",
    "          print(\"Minibatch loss at step %d: %f\" % (step, l))\n",
    "          print(\"Minibatch accuracy: %.1f%%\" % accuracy(predictions, batch_labels))\n",
    "          valid_eval = accuracy(valid_prediction.eval(), valid_labels)\n",
    "          print(\"Validation accuracy: %.1f%%\" % valid_eval)\n",
    "          if valid_eval < best_valid_acc:\n",
    "                if(valid_eval < best_valid_acc - 2):\n",
    "                    break;\n",
    "          else:\n",
    "                best_valid_acc = valid_eval\n",
    "  print(\"Test accuracy: %.1f%%\" % accuracy(test_prediction.eval(), test_labels))\n",
    "  single_layer_weights = weights.eval()"
   ]
  },
  {
   "cell_type": "markdown",
   "metadata": {
    "colab_type": "text",
    "id": "ww3SCBUdlkRc"
   },
   "source": [
    "Changing to using the premade layers from tensorflow."
   ]
  },
  {
   "cell_type": "code",
   "execution_count": 30,
   "metadata": {},
   "outputs": [],
   "source": [
    "batch_size = 128\n",
    "reg_constant = .002\n",
    "hidden_nodes = 1024\n",
    "learning_rate = 0.5\n",
    "\n",
    "graph = tf.Graph()\n",
    "with graph.as_default():\n",
    "\n",
    "  # Input data. For the training data, we use a placeholder that will be fed\n",
    "  # at run time with a training minibatch.\n",
    "  tf_X_input = tf.placeholder(tf.float32,\n",
    "                                    shape=(None, image_size * image_size))\n",
    "  tf_y_input = tf.placeholder(tf.float32, shape=(None, num_labels))\n",
    "  \n",
    "  # Variables.\n",
    "  tf_layer_1 = tf.layers.dense(tf_X_input,hidden_nodes)\n",
    "  tf_layer_1 = tf.nn.relu(tf_layer_1)\n",
    "  tf_layer_2 = tf.layers.dense(tf_layer_1,num_labels)\n",
    "\n",
    "  # Training computation.\n",
    "  loss = tf.reduce_mean(\n",
    "    tf.nn.softmax_cross_entropy_with_logits(labels=tf_y_input, logits=tf_layer_2))\n",
    "  \n",
    "  # Optimizer.\n",
    "  optimizer = tf.train.GradientDescentOptimizer(learning_rate).minimize(loss)\n",
    "  \n",
    "  # Predictions\n",
    "  tf_predictions = tf.nn.softmax(tf_layer_2)"
   ]
  },
  {
   "cell_type": "code",
   "execution_count": 42,
   "metadata": {},
   "outputs": [
    {
     "name": "stdout",
     "output_type": "stream",
     "text": [
      "Initialized\n",
      "Minibatch loss at step 0: 2.305990\n",
      "Minibatch accuracy: 14.8%\n",
      "Validation Accuracy: 46.5%\n",
      "Minibatch loss at step 500: 0.421147\n",
      "Minibatch accuracy: 89.1%\n",
      "Validation Accuracy: 85.9%\n",
      "Minibatch loss at step 1000: 0.536175\n",
      "Minibatch accuracy: 85.2%\n",
      "Validation Accuracy: 86.4%\n",
      "Minibatch loss at step 1500: 0.442073\n",
      "Minibatch accuracy: 88.3%\n",
      "Validation Accuracy: 87.2%\n",
      "Minibatch loss at step 2000: 0.295959\n",
      "Minibatch accuracy: 92.2%\n",
      "Validation Accuracy: 87.9%\n",
      "Minibatch loss at step 2500: 0.332151\n",
      "Minibatch accuracy: 88.3%\n",
      "Validation Accuracy: 88.3%\n",
      "Minibatch loss at step 3000: 0.266781\n",
      "Minibatch accuracy: 93.8%\n",
      "Validation Accuracy: 88.4%\n",
      "Minibatch loss at step 3500: 0.308270\n",
      "Minibatch accuracy: 92.2%\n",
      "Validation Accuracy: 88.1%\n",
      "Minibatch loss at step 4000: 0.221826\n",
      "Minibatch accuracy: 94.5%\n",
      "Validation Accuracy: 88.2%\n",
      "Minibatch loss at step 4500: 0.307984\n",
      "Minibatch accuracy: 91.4%\n",
      "Validation Accuracy: 88.8%\n",
      "Minibatch loss at step 5000: 0.416013\n",
      "Minibatch accuracy: 89.8%\n",
      "Validation Accuracy: 89.0%\n",
      "Test accuracy: 94.9%\n"
     ]
    }
   ],
   "source": [
    "num_steps = 5001\n",
    "best_valid_acc = 0.0\n",
    "\n",
    "with tf.Session(graph=graph) as session:\n",
    "  tf.global_variables_initializer().run()\n",
    "  print(\"Initialized\")\n",
    "  for step in range(num_steps):\n",
    "    # Pick an offset within the training data, which has been randomized.\n",
    "    # Note: we could use better randomization across epochs.\n",
    "    offset = (step * batch_size) % (train_labels.shape[0] - batch_size)\n",
    "    # Generate a minibatch.\n",
    "    batch_data = train_dataset[offset:(offset + batch_size), :]\n",
    "    batch_labels = train_labels[offset:(offset + batch_size), :]\n",
    "    # Prepare a dictionary telling the session where to feed the minibatch.\n",
    "    # The key of the dictionary is the placeholder node of the graph to be fed,\n",
    "    # and the value is the numpy array to feed to it.\n",
    "    feed_dict = {tf_X_input : batch_data, tf_y_input : batch_labels}\n",
    "    _, l, predictions = session.run(\n",
    "      [optimizer, loss, tf_predictions], feed_dict=feed_dict)\n",
    "    if (step % 500 == 0):\n",
    "          print(\"Minibatch loss at step %d: %f\" % (step, l))\n",
    "          print(\"Minibatch accuracy: %.1f%%\" % accuracy(predictions, batch_labels))\n",
    "          valid_preds = session.run([tf_predictions], feed_dict={tf_X_input:valid_dataset})\n",
    "          print(\"Validation Accuracy: %.1f%%\" % accuracy(valid_preds[0], valid_labels))\n",
    "  test_preds = session.run([tf_predictions], feed_dict={tf_X_input:test_dataset})\n",
    "  print(\"Test accuracy: %.1f%%\" % accuracy(test_preds[0], test_labels))"
   ]
  },
  {
   "cell_type": "markdown",
   "metadata": {},
   "source": [
    "---\n",
    "Problem 3\n",
    "---------\n",
    "Introduce Dropout on the hidden layer of the neural network. Remember: Dropout should only be introduced during training, not evaluation, otherwise your evaluation results would be stochastic as well. TensorFlow provides `nn.dropout()` for that, but you have to make sure it's only inserted during training.\n",
    "\n",
    "What happens to our extreme overfitting case?\n",
    "\n",
    "---"
   ]
  },
  {
   "cell_type": "markdown",
   "metadata": {},
   "source": [
    "The overfitting case increases (~5%) when using dropout"
   ]
  },
  {
   "cell_type": "code",
   "execution_count": 72,
   "metadata": {},
   "outputs": [],
   "source": [
    "batch_size = 128\n",
    "reg_constant = .002\n",
    "hidden_nodes_1 = 1024\n",
    "hidden_nodes_2 = 512\n",
    "learning_rate = 0.5\n",
    "dropout_rate = 0.5\n",
    "\n",
    "graph = tf.Graph()\n",
    "with graph.as_default():\n",
    "\n",
    "  # Input data. For the training data, we use a placeholder that will be fed\n",
    "  # at run time with a training minibatch.\n",
    "  tf_X_input = tf.placeholder(tf.float32,\n",
    "                                    shape=(None, image_size * image_size))\n",
    "  tf_y_input = tf.placeholder(tf.float32, shape=(None, num_labels))\n",
    "  tf_is_training = tf.placeholder(tf.bool)\n",
    "  \n",
    "  # Variables.\n",
    "  tf_layer_1 = tf.layers.dense(tf_X_input,hidden_nodes_1)\n",
    "  tf_layer_1 = tf.nn.relu(tf_layer_1)\n",
    "  tf_layer_1 = tf.layers.dropout(tf_layer_1,rate = dropout_rate, training = tf_is_training)\n",
    "  tf_layer_2 = tf.layers.dense(tf_layer_1,hidden_nodes_2)\n",
    "  tf_layer_2 = tf.nn.relu(tf_layer_2)\n",
    "  tf_output = tf.layers.dense(tf_layer_2,num_labels)\n",
    "  \n",
    "\n",
    "  # Training computation.\n",
    "  loss = tf.reduce_mean(\n",
    "    tf.nn.softmax_cross_entropy_with_logits(labels=tf_y_input, logits=tf_output))\n",
    "  \n",
    "  # Optimizer.\n",
    "  optimizer = tf.train.GradientDescentOptimizer(learning_rate).minimize(loss)\n",
    "  \n",
    "  # Predictions\n",
    "  tf_predictions = tf.nn.softmax(tf_output)"
   ]
  },
  {
   "cell_type": "code",
   "execution_count": 73,
   "metadata": {},
   "outputs": [
    {
     "name": "stdout",
     "output_type": "stream",
     "text": [
      "Initialized\n",
      "Minibatch loss at step 0: 2.426312\n",
      "Minibatch accuracy: 10.2%\n",
      "Validation Accuracy: 34.9%\n",
      "Minibatch loss at step 1000: 0.001213\n",
      "Minibatch accuracy: 100.0%\n",
      "Validation Accuracy: 78.7%\n",
      "Minibatch loss at step 2000: 0.000284\n",
      "Minibatch accuracy: 100.0%\n",
      "Validation Accuracy: 79.0%\n",
      "Minibatch loss at step 3000: 0.000206\n",
      "Minibatch accuracy: 100.0%\n",
      "Validation Accuracy: 78.9%\n",
      "Minibatch loss at step 4000: 0.000403\n",
      "Minibatch accuracy: 100.0%\n",
      "Validation Accuracy: 79.0%\n",
      "Minibatch loss at step 5000: 0.000083\n",
      "Minibatch accuracy: 100.0%\n",
      "Validation Accuracy: 79.1%\n",
      "Test accuracy: 86.3%\n"
     ]
    }
   ],
   "source": [
    "num_steps = 5001\n",
    "\n",
    "with tf.Session(graph=graph) as session:\n",
    "  tf.global_variables_initializer().run()\n",
    "  print(\"Initialized\")\n",
    "  for step in range(num_steps):\n",
    "    # Pick an offset within the training data, which has been randomized.\n",
    "    # Note: we could use better randomization across epochs.\n",
    "    offset = (step * batch_size) % (500)#Limited Batch Size\n",
    "    # Generate a minibatch.\n",
    "    batch_data = train_dataset[offset:(offset + batch_size), :]\n",
    "    batch_labels = train_labels[offset:(offset + batch_size), :]\n",
    "    # Prepare a dictionary telling the session where to feed the minibatch.\n",
    "    # The key of the dictionary is the placeholder node of the graph to be fed,\n",
    "    # and the value is the numpy array to feed to it.\n",
    "    feed_dict = {tf_X_input : batch_data, tf_y_input : batch_labels, tf_is_training : True}\n",
    "    _, l, predictions = session.run(\n",
    "      [optimizer, loss, tf_predictions], feed_dict=feed_dict)\n",
    "    if (step % 1000 == 0):\n",
    "          print(\"Minibatch loss at step %d: %f\" % (step, l))\n",
    "          print(\"Minibatch accuracy: %.1f%%\" % accuracy(predictions, batch_labels))\n",
    "          valid_preds = session.run([tf_predictions], feed_dict={tf_X_input:valid_dataset, tf_is_training:False})\n",
    "          print(\"Validation Accuracy: %.1f%%\" % accuracy(valid_preds[0], valid_labels))\n",
    "  test_preds = session.run([tf_predictions], feed_dict={tf_X_input:test_dataset, tf_is_training:False})\n",
    "  print(\"Test accuracy: %.1f%%\" % accuracy(test_preds[0], test_labels))"
   ]
  },
  {
   "cell_type": "markdown",
   "metadata": {
    "colab_type": "text",
    "id": "-b1hTz3VWZjw"
   },
   "source": [
    "---\n",
    "Problem 4\n",
    "---------\n",
    "\n",
    "Try to get the best performance you can using a multi-layer model! The best reported test accuracy using a deep network is [97.1%](http://yaroslavvb.blogspot.com/2011/09/notmnist-dataset.html?showComment=1391023266211#c8758720086795711595).\n",
    "\n",
    "One avenue you can explore is to add multiple layers.\n",
    "\n",
    "Another one is to use learning rate decay:\n",
    "\n",
    "    global_step = tf.Variable(0)  # count the number of steps taken.\n",
    "    learning_rate = tf.train.exponential_decay(0.5, global_step, ...)\n",
    "    optimizer = tf.train.GradientDescentOptimizer(learning_rate).minimize(loss, global_step=global_step)\n",
    " \n",
    " ---\n"
   ]
  },
  {
   "cell_type": "code",
   "execution_count": 89,
   "metadata": {
    "collapsed": true
   },
   "outputs": [],
   "source": [
    "batch_size = 128\n",
    "hidden_nodes = 1024\n",
    "learning_rate = 0.8\n",
    "dropout_rate = 0.5\n",
    "\n",
    "graph = tf.Graph()\n",
    "with graph.as_default():\n",
    "\n",
    "  # Input data. For the training data, we use a placeholder that will be fed\n",
    "  # at run time with a training minibatch.\n",
    "  tf_X_input = tf.placeholder(tf.float32,\n",
    "                                    shape=(None, image_size * image_size))\n",
    "  tf_y_input = tf.placeholder(tf.float32, shape=(None, num_labels))\n",
    "  tf_is_training = tf.placeholder(tf.bool)\n",
    "  \n",
    "  # Variables.\n",
    "  tf_layer_1 = tf.layers.dense(tf_X_input,hidden_nodes)\n",
    "  tf_layer_1 = tf.nn.relu(tf_layer_1)\n",
    "  tf_layer_1 = tf.layers.dropout(tf_layer_1,rate = dropout_rate, training = tf_is_training)\n",
    "  tf_layer_2 = tf.layers.dense(tf_layer_1,hidden_nodes)\n",
    "  tf_layer_2 = tf.nn.relu(tf_layer_2)\n",
    "  tf_layer_3 = tf.layers.dense(tf_layer_2,hidden_nodes)\n",
    "  tf_layer_3 = tf.nn.relu(tf_layer_3)\n",
    "  tf_output = tf.layers.dense(tf_layer_3,num_labels)\n",
    "  \n",
    "\n",
    "  # Training computation.\n",
    "  loss = tf.reduce_mean(\n",
    "    tf.nn.softmax_cross_entropy_with_logits(labels=tf_y_input, logits=tf_output))\n",
    "  \n",
    "  # Optimizer.\n",
    "  optimizer = tf.train.GradientDescentOptimizer(learning_rate).minimize(loss)\n",
    "  \n",
    "  # Predictions\n",
    "  tf_predictions = tf.nn.softmax(tf_output)"
   ]
  },
  {
   "cell_type": "code",
   "execution_count": 90,
   "metadata": {},
   "outputs": [
    {
     "name": "stdout",
     "output_type": "stream",
     "text": [
      "Initialized\n",
      "Minibatch loss at step 0: 2.374178\n",
      "Minibatch accuracy: 8.6%\n",
      "Validation Accuracy: 27.1%\n",
      "Minibatch loss at step 1000: 0.564951\n",
      "Minibatch accuracy: 82.8%\n",
      "Validation Accuracy: 85.9%\n",
      "Minibatch loss at step 2000: 0.380035\n",
      "Minibatch accuracy: 88.3%\n",
      "Validation Accuracy: 88.0%\n",
      "Minibatch loss at step 3000: 0.368844\n",
      "Minibatch accuracy: 89.1%\n",
      "Validation Accuracy: 88.3%\n",
      "Minibatch loss at step 4000: 0.269961\n",
      "Minibatch accuracy: 93.8%\n",
      "Validation Accuracy: 88.7%\n",
      "Minibatch loss at step 5000: 0.442255\n",
      "Minibatch accuracy: 85.9%\n",
      "Validation Accuracy: 89.1%\n",
      "Minibatch loss at step 6000: 0.451022\n",
      "Minibatch accuracy: 85.9%\n",
      "Validation Accuracy: 89.3%\n",
      "Minibatch loss at step 7000: 0.367649\n",
      "Minibatch accuracy: 89.1%\n",
      "Validation Accuracy: 89.5%\n",
      "Minibatch loss at step 8000: 0.399015\n",
      "Minibatch accuracy: 86.7%\n",
      "Validation Accuracy: 89.5%\n",
      "Minibatch loss at step 9000: 0.316912\n",
      "Minibatch accuracy: 91.4%\n",
      "Validation Accuracy: 89.7%\n",
      "Minibatch loss at step 10000: 0.232577\n",
      "Minibatch accuracy: 92.2%\n",
      "Validation Accuracy: 90.1%\n",
      "Test accuracy: 95.4%\n"
     ]
    }
   ],
   "source": [
    "num_steps = 10001\n",
    "\n",
    "with tf.Session(graph=graph) as session:\n",
    "  tf.global_variables_initializer().run()\n",
    "  print(\"Initialized\")\n",
    "  for step in range(num_steps):\n",
    "    # Pick an offset within the training data, which has been randomized.\n",
    "    # Note: we could use better randomization across epochs.\n",
    "    offset = (step * batch_size) % (train_labels.shape[0] - batch_size)\n",
    "    # Generate a minibatch.\n",
    "    batch_data = train_dataset[offset:(offset + batch_size), :]\n",
    "    batch_labels = train_labels[offset:(offset + batch_size), :]\n",
    "    # Prepare a dictionary telling the session where to feed the minibatch.\n",
    "    # The key of the dictionary is the placeholder node of the graph to be fed,\n",
    "    # and the value is the numpy array to feed to it.\n",
    "    feed_dict = {tf_X_input : batch_data, tf_y_input : batch_labels, tf_is_training : True}\n",
    "    _, l, predictions = session.run(\n",
    "      [optimizer, loss, tf_predictions], feed_dict=feed_dict)\n",
    "    if (step % 1000 == 0):\n",
    "          print(\"Minibatch loss at step %d: %f\" % (step, l))\n",
    "          print(\"Minibatch accuracy: %.1f%%\" % accuracy(predictions, batch_labels))\n",
    "          valid_preds = session.run([tf_predictions], feed_dict={tf_X_input:valid_dataset, tf_is_training:False})\n",
    "          print(\"Validation Accuracy: %.1f%%\" % accuracy(valid_preds[0], valid_labels))\n",
    "  test_preds = session.run([tf_predictions], feed_dict={tf_X_input:test_dataset, tf_is_training:False})\n",
    "  print(\"Test accuracy: %.1f%%\" % accuracy(test_preds[0], test_labels))\n",
    "  winsound.Beep(500,1000)"
   ]
  }
 ],
 "metadata": {
  "colab": {
   "default_view": {},
   "name": "3_regularization.ipynb",
   "provenance": [],
   "version": "0.3.2",
   "views": {}
  },
  "kernelspec": {
   "display_name": "Python 3",
   "language": "python",
   "name": "python3"
  },
  "language_info": {
   "codemirror_mode": {
    "name": "ipython",
    "version": 3
   },
   "file_extension": ".py",
   "mimetype": "text/x-python",
   "name": "python",
   "nbconvert_exporter": "python",
   "pygments_lexer": "ipython3",
   "version": "3.5.4"
  }
 },
 "nbformat": 4,
 "nbformat_minor": 1
}
