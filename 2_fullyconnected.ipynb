{
 "cells": [
  {
   "cell_type": "markdown",
   "metadata": {
    "colab_type": "text",
    "id": "kR-4eNdK6lYS"
   },
   "source": [
    "Deep Learning\n",
    "=============\n",
    "\n",
    "Assignment 2\n",
    "------------\n",
    "\n",
    "Previously in `1_notmnist.ipynb`, we created a pickle with formatted datasets for training, development and testing on the [notMNIST dataset](http://yaroslavvb.blogspot.com/2011/09/notmnist-dataset.html).\n",
    "\n",
    "The goal of this assignment is to progressively train deeper and more accurate models using TensorFlow."
   ]
  },
  {
   "cell_type": "code",
   "execution_count": 1,
   "metadata": {
    "cellView": "both",
    "colab": {
     "autoexec": {
      "startup": false,
      "wait_interval": 0
     }
    },
    "colab_type": "code",
    "collapsed": true,
    "id": "JLpLa8Jt7Vu4"
   },
   "outputs": [],
   "source": [
    "# These are all the modules we'll be using later. Make sure you can import them\n",
    "# before proceeding further.\n",
    "from __future__ import print_function\n",
    "import numpy as np\n",
    "import tensorflow as tf\n",
    "from six.moves import cPickle as pickle\n",
    "from six.moves import range"
   ]
  },
  {
   "cell_type": "markdown",
   "metadata": {
    "colab_type": "text",
    "id": "1HrCK6e17WzV"
   },
   "source": [
    "First reload the data we generated in `1_notmnist.ipynb`."
   ]
  },
  {
   "cell_type": "code",
   "execution_count": 2,
   "metadata": {
    "cellView": "both",
    "colab": {
     "autoexec": {
      "startup": false,
      "wait_interval": 0
     },
     "output_extras": [
      {
       "item_id": 1
      }
     ]
    },
    "colab_type": "code",
    "executionInfo": {
     "elapsed": 19456,
     "status": "ok",
     "timestamp": 1449847956073,
     "user": {
      "color": "",
      "displayName": "",
      "isAnonymous": false,
      "isMe": true,
      "permissionId": "",
      "photoUrl": "",
      "sessionId": "0",
      "userId": ""
     },
     "user_tz": 480
    },
    "id": "y3-cj1bpmuxc",
    "outputId": "0ddb1607-1fc4-4ddb-de28-6c7ab7fb0c33"
   },
   "outputs": [
    {
     "name": "stdout",
     "output_type": "stream",
     "text": [
      "Training set (300000, 28, 28) (300000,)\n",
      "Validation set (10000, 28, 28) (10000,)\n",
      "Test set (10000, 28, 28) (10000,)\n"
     ]
    }
   ],
   "source": [
    "pickle_file = 'D:/Libraries/Documents/Tensorflow/notMNIST_data/notMNIST.pickle'\n",
    "\n",
    "with open(pickle_file, 'rb') as f:\n",
    "  save = pickle.load(f)\n",
    "  train_dataset = save['train_dataset']\n",
    "  train_labels = save['train_labels']\n",
    "  valid_dataset = save['valid_dataset']\n",
    "  valid_labels = save['valid_labels']\n",
    "  test_dataset = save['test_dataset']\n",
    "  test_labels = save['test_labels']\n",
    "  del save  # hint to help gc free up memory\n",
    "  print('Training set', train_dataset.shape, train_labels.shape)\n",
    "  print('Validation set', valid_dataset.shape, valid_labels.shape)\n",
    "  print('Test set', test_dataset.shape, test_labels.shape)"
   ]
  },
  {
   "cell_type": "markdown",
   "metadata": {
    "colab_type": "text",
    "id": "L7aHrm6nGDMB"
   },
   "source": [
    "Reformat into a shape that's more adapted to the models we're going to train:\n",
    "- data as a flat matrix,\n",
    "- labels as float 1-hot encodings."
   ]
  },
  {
   "cell_type": "code",
   "execution_count": 3,
   "metadata": {
    "cellView": "both",
    "colab": {
     "autoexec": {
      "startup": false,
      "wait_interval": 0
     },
     "output_extras": [
      {
       "item_id": 1
      }
     ]
    },
    "colab_type": "code",
    "executionInfo": {
     "elapsed": 19723,
     "status": "ok",
     "timestamp": 1449847956364,
     "user": {
      "color": "",
      "displayName": "",
      "isAnonymous": false,
      "isMe": true,
      "permissionId": "",
      "photoUrl": "",
      "sessionId": "0",
      "userId": ""
     },
     "user_tz": 480
    },
    "id": "IRSyYiIIGIzS",
    "outputId": "2ba0fc75-1487-4ace-a562-cf81cae82793"
   },
   "outputs": [
    {
     "name": "stdout",
     "output_type": "stream",
     "text": [
      "Training set (300000, 784) (300000, 10)\n",
      "Validation set (10000, 784) (10000, 10)\n",
      "Test set (10000, 784) (10000, 10)\n"
     ]
    }
   ],
   "source": [
    "image_size = 28\n",
    "num_labels = 10\n",
    "\n",
    "def reformat(dataset, labels):\n",
    "  dataset = dataset.reshape((-1, image_size * image_size)).astype(np.float32)\n",
    "  # Map 0 to [1.0, 0.0, 0.0 ...], 1 to [0.0, 1.0, 0.0 ...]\n",
    "  labels = (np.arange(num_labels) == labels[:,None]).astype(np.float32)\n",
    "  return dataset, labels\n",
    "train_dataset, train_labels = reformat(train_dataset, train_labels)\n",
    "valid_dataset, valid_labels = reformat(valid_dataset, valid_labels)\n",
    "test_dataset, test_labels = reformat(test_dataset, test_labels)\n",
    "print('Training set', train_dataset.shape, train_labels.shape)\n",
    "print('Validation set', valid_dataset.shape, valid_labels.shape)\n",
    "print('Test set', test_dataset.shape, test_labels.shape)"
   ]
  },
  {
   "cell_type": "code",
   "execution_count": 4,
   "metadata": {
    "collapsed": true
   },
   "outputs": [],
   "source": [
    "def randomize(dataset, labels):\n",
    "  permutation = np.random.permutation(labels.shape[0])\n",
    "  shuffled_dataset = dataset[permutation,:]\n",
    "  shuffled_labels = labels[permutation]\n",
    "  return shuffled_dataset, shuffled_labels\n",
    "train_dataset, train_labels = randomize(train_dataset, train_labels)\n",
    "test_dataset, test_labels = randomize(test_dataset, test_labels)\n",
    "valid_dataset, valid_labels = randomize(valid_dataset, valid_labels)"
   ]
  },
  {
   "cell_type": "code",
   "execution_count": 5,
   "metadata": {
    "collapsed": true
   },
   "outputs": [],
   "source": [
    "train_labels = train_labels.squeeze()\n",
    "valid_labels = valid_labels.squeeze()\n",
    "test_labels = test_labels.squeeze()"
   ]
  },
  {
   "cell_type": "markdown",
   "metadata": {
    "colab_type": "text",
    "id": "nCLVqyQ5vPPH"
   },
   "source": [
    "We're first going to train a multinomial logistic regression using simple gradient descent.\n",
    "\n",
    "TensorFlow works like this:\n",
    "* First you describe the computation that you want to see performed: what the inputs, the variables, and the operations look like. These get created as nodes over a computation graph. This description is all contained within the block below:\n",
    "\n",
    "      with graph.as_default():\n",
    "          ...\n",
    "\n",
    "* Then you can run the operations on this graph as many times as you want by calling `session.run()`, providing it outputs to fetch from the graph that get returned. This runtime operation is all contained in the block below:\n",
    "\n",
    "      with tf.Session(graph=graph) as session:\n",
    "          ...\n",
    "\n",
    "Let's load all the data into TensorFlow and build the computation graph corresponding to our training:"
   ]
  },
  {
   "cell_type": "code",
   "execution_count": 6,
   "metadata": {
    "cellView": "both",
    "colab": {
     "autoexec": {
      "startup": false,
      "wait_interval": 0
     }
    },
    "colab_type": "code",
    "collapsed": true,
    "id": "Nfv39qvtvOl_"
   },
   "outputs": [],
   "source": [
    "# With gradient descent training, even this much data is prohibitive.\n",
    "# Subset the training data for faster turnaround.\n",
    "train_subset = 10000\n",
    "\n",
    "graph = tf.Graph()\n",
    "with graph.as_default():\n",
    "\n",
    "  # Input data.\n",
    "  # Load the training, validation and test data into constants that are\n",
    "  # attached to the graph.\n",
    "  tf_train_dataset = tf.constant(train_dataset[:train_subset, :])\n",
    "  tf_train_labels = tf.constant(train_labels[:train_subset])\n",
    "  tf_valid_dataset = tf.constant(valid_dataset)\n",
    "  tf_test_dataset = tf.constant(test_dataset)\n",
    "  \n",
    "  # Variables.\n",
    "  # These are the parameters that we are going to be training. The weight\n",
    "  # matrix will be initialized using random values following a (truncated)\n",
    "  # normal distribution. The biases get initialized to zero.\n",
    "  weights = tf.Variable(\n",
    "    tf.truncated_normal([image_size * image_size, num_labels]))\n",
    "  biases = tf.Variable(tf.zeros([num_labels]))\n",
    "  \n",
    "  # Training computation.\n",
    "  # We multiply the inputs with the weight matrix, and add biases. We compute\n",
    "  # the softmax and cross-entropy (it's one operation in TensorFlow, because\n",
    "  # it's very common, and it can be optimized). We take the average of this\n",
    "  # cross-entropy across all training examples: that's our loss.\n",
    "  logits = tf.matmul(tf_train_dataset, weights) + biases\n",
    "  loss = tf.reduce_mean(\n",
    "    tf.nn.softmax_cross_entropy_with_logits(labels=tf_train_labels, logits=logits))\n",
    "  \n",
    "  # Optimizer.\n",
    "  # We are going to find the minimum of this loss using gradient descent.\n",
    "  optimizer = tf.train.GradientDescentOptimizer(0.5).minimize(loss)\n",
    "  \n",
    "  # Predictions for the training, validation, and test data.\n",
    "  # These are not part of training, but merely here so that we can report\n",
    "  # accuracy figures as we train.\n",
    "  train_prediction = tf.nn.softmax(logits)\n",
    "  valid_prediction = tf.nn.softmax(\n",
    "    tf.matmul(tf_valid_dataset, weights) + biases)\n",
    "  test_prediction = tf.nn.softmax(tf.matmul(tf_test_dataset, weights) + biases)"
   ]
  },
  {
   "cell_type": "markdown",
   "metadata": {
    "colab_type": "text",
    "id": "KQcL4uqISHjP"
   },
   "source": [
    "Let's run this computation and iterate:"
   ]
  },
  {
   "cell_type": "code",
   "execution_count": 7,
   "metadata": {
    "collapsed": true
   },
   "outputs": [],
   "source": [
    "def accuracy(predictions, labels):\n",
    "    return (100.0 * np.sum(np.argmax(predictions, 1) == np.argmax(labels, 1))\n",
    "          / predictions.shape[0])"
   ]
  },
  {
   "cell_type": "code",
   "execution_count": 8,
   "metadata": {
    "cellView": "both",
    "colab": {
     "autoexec": {
      "startup": false,
      "wait_interval": 0
     },
     "output_extras": [
      {
       "item_id": 9
      }
     ]
    },
    "colab_type": "code",
    "executionInfo": {
     "elapsed": 57454,
     "status": "ok",
     "timestamp": 1449847994134,
     "user": {
      "color": "",
      "displayName": "",
      "isAnonymous": false,
      "isMe": true,
      "permissionId": "",
      "photoUrl": "",
      "sessionId": "0",
      "userId": ""
     },
     "user_tz": 480
    },
    "id": "z2cjdenH869W",
    "outputId": "4c037ba1-b526-4d8e-e632-91e2a0333267",
    "scrolled": true
   },
   "outputs": [
    {
     "name": "stdout",
     "output_type": "stream",
     "text": [
      "Initialized\n",
      "Loss at step 0: 19.514076\n",
      "Training accuracy: 4.6%\n",
      "Validation accuracy: 7.5%\n",
      "Loss at step 100: 2.368166\n",
      "Training accuracy: 71.7%\n",
      "Validation accuracy: 70.8%\n",
      "Loss at step 200: 1.897327\n",
      "Training accuracy: 74.8%\n",
      "Validation accuracy: 73.6%\n",
      "Loss at step 300: 1.644201\n",
      "Training accuracy: 76.3%\n",
      "Validation accuracy: 74.4%\n",
      "Loss at step 400: 1.473377\n",
      "Training accuracy: 77.2%\n",
      "Validation accuracy: 74.9%\n",
      "Loss at step 500: 1.346876\n",
      "Training accuracy: 77.9%\n",
      "Validation accuracy: 75.1%\n",
      "Loss at step 600: 1.248122\n",
      "Training accuracy: 78.5%\n",
      "Validation accuracy: 75.1%\n",
      "Loss at step 700: 1.167972\n",
      "Training accuracy: 79.1%\n",
      "Validation accuracy: 75.4%\n",
      "Loss at step 800: 1.101046\n",
      "Training accuracy: 79.5%\n",
      "Validation accuracy: 75.6%\n",
      "Loss at step 900: 1.044039\n",
      "Training accuracy: 79.9%\n",
      "Validation accuracy: 75.8%\n",
      "Loss at step 1000: 0.994771\n",
      "Training accuracy: 80.3%\n",
      "Validation accuracy: 75.8%\n",
      "Loss at step 1100: 0.951699\n",
      "Training accuracy: 80.7%\n",
      "Validation accuracy: 75.8%\n",
      "Loss at step 1200: 0.913673\n",
      "Training accuracy: 81.0%\n",
      "Validation accuracy: 75.9%\n",
      "Loss at step 1300: 0.879817\n",
      "Training accuracy: 81.2%\n",
      "Validation accuracy: 75.9%\n",
      "Loss at step 1400: 0.849453\n",
      "Training accuracy: 81.4%\n",
      "Validation accuracy: 75.9%\n",
      "Loss at step 1500: 0.822048\n",
      "Training accuracy: 81.7%\n",
      "Validation accuracy: 76.0%\n",
      "Loss at step 1600: 0.797174\n",
      "Training accuracy: 82.0%\n",
      "Validation accuracy: 76.0%\n",
      "Loss at step 1700: 0.774485\n",
      "Training accuracy: 82.2%\n",
      "Validation accuracy: 76.1%\n",
      "Loss at step 1800: 0.753695\n",
      "Training accuracy: 82.3%\n",
      "Validation accuracy: 76.2%\n",
      "Loss at step 1900: 0.734567\n",
      "Training accuracy: 82.6%\n",
      "Validation accuracy: 76.2%\n",
      "Loss at step 2000: 0.716902\n",
      "Training accuracy: 82.8%\n",
      "Validation accuracy: 76.2%\n",
      "Loss at step 2100: 0.700530\n",
      "Training accuracy: 83.1%\n",
      "Validation accuracy: 76.2%\n",
      "Loss at step 2200: 0.685311\n",
      "Training accuracy: 83.3%\n",
      "Validation accuracy: 76.3%\n",
      "Loss at step 2300: 0.671122\n",
      "Training accuracy: 83.3%\n",
      "Validation accuracy: 76.2%\n",
      "Loss at step 2400: 0.657858\n",
      "Training accuracy: 83.6%\n",
      "Validation accuracy: 76.3%\n",
      "Loss at step 2500: 0.645428\n",
      "Training accuracy: 83.8%\n",
      "Validation accuracy: 76.3%\n",
      "Loss at step 2600: 0.633755\n",
      "Training accuracy: 84.0%\n",
      "Validation accuracy: 76.3%\n",
      "Loss at step 2700: 0.622768\n",
      "Training accuracy: 84.2%\n",
      "Validation accuracy: 76.3%\n",
      "Loss at step 2800: 0.612407\n",
      "Training accuracy: 84.5%\n",
      "Validation accuracy: 76.4%\n",
      "Loss at step 2900: 0.602618\n",
      "Training accuracy: 84.6%\n",
      "Validation accuracy: 76.4%\n",
      "Loss at step 3000: 0.593352\n",
      "Training accuracy: 84.9%\n",
      "Validation accuracy: 76.5%\n",
      "Test accuracy: 84.3%\n"
     ]
    }
   ],
   "source": [
    "num_steps = 3001\n",
    "\n",
    "def accuracy(predictions, labels):\n",
    "    return (100.0 * np.sum(np.argmax(predictions, 1) == np.argmax(labels, 1))\n",
    "          / predictions.shape[0])\n",
    "\n",
    "with tf.Session(graph=graph) as session:\n",
    "  # This is a one-time operation which ensures the parameters get initialized as\n",
    "  # we described in the graph: random weights for the matrix, zeros for the\n",
    "  # biases. \n",
    "  tf.global_variables_initializer().run()\n",
    "  print('Initialized')\n",
    "  for step in range(num_steps):\n",
    "    # Run the computations. We tell .run() that we want to run the optimizer,\n",
    "    # and get the loss value and the training predictions returned as numpy\n",
    "    # arrays.\n",
    "    _, l, predictions = session.run([optimizer, loss, train_prediction])\n",
    "    if (step % 100 == 0):\n",
    "      print('Loss at step %d: %f' % (step, l))\n",
    "      print('Training accuracy: %.1f%%' % accuracy(\n",
    "        predictions, train_labels[:train_subset, :]))\n",
    "      # Calling .eval() on valid_prediction is basically like calling run(), but\n",
    "      # just to get that one numpy array. Note that it recomputes all its graph\n",
    "      # dependencies.\n",
    "      print('Validation accuracy: %.1f%%' % accuracy(\n",
    "        valid_prediction.eval(), valid_labels))\n",
    "  print('Test accuracy: %.1f%%' % accuracy(test_prediction.eval(), test_labels))\n",
    "  "
   ]
  },
  {
   "cell_type": "markdown",
   "metadata": {
    "colab_type": "text",
    "id": "x68f-hxRGm3H"
   },
   "source": [
    "Let's now switch to stochastic gradient descent training instead, which is much faster.\n",
    "\n",
    "The graph will be similar, except that instead of holding all the training data into a constant node, we create a `Placeholder` node which will be fed actual data at every call of `session.run()`."
   ]
  },
  {
   "cell_type": "code",
   "execution_count": 9,
   "metadata": {
    "cellView": "both",
    "colab": {
     "autoexec": {
      "startup": false,
      "wait_interval": 0
     }
    },
    "colab_type": "code",
    "collapsed": true,
    "id": "qhPMzWYRGrzM"
   },
   "outputs": [],
   "source": [
    "batch_size = 128\n",
    "\n",
    "graph = tf.Graph()\n",
    "with graph.as_default():\n",
    "\n",
    "  # Input data. For the training data, we use a placeholder that will be fed\n",
    "  # at run time with a training minibatch.\n",
    "  tf_train_dataset = tf.placeholder(tf.float32,\n",
    "                                    shape=(batch_size, image_size * image_size))\n",
    "  tf_train_labels = tf.placeholder(tf.float32, shape=(batch_size, num_labels))\n",
    "  tf_valid_dataset = tf.constant(valid_dataset)\n",
    "  tf_test_dataset = tf.constant(test_dataset)\n",
    "  \n",
    "  # Variables.\n",
    "  weights = tf.Variable(\n",
    "    tf.truncated_normal([image_size * image_size, num_labels]))\n",
    "  biases = tf.Variable(tf.zeros([num_labels]))\n",
    "  \n",
    "  # Training computation.\n",
    "  logits = tf.matmul(tf_train_dataset, weights) + biases\n",
    "  loss = tf.reduce_mean(\n",
    "    tf.nn.softmax_cross_entropy_with_logits(labels=tf_train_labels, logits=logits))\n",
    "  \n",
    "  # Optimizer.\n",
    "  optimizer = tf.train.GradientDescentOptimizer(0.5).minimize(loss)\n",
    "  \n",
    "  # Predictions for the training, validation, and test data.\n",
    "  train_prediction = tf.nn.softmax(logits)\n",
    "  valid_prediction = tf.nn.softmax(\n",
    "    tf.matmul(tf_valid_dataset, weights) + biases)\n",
    "  test_prediction = tf.nn.softmax(tf.matmul(tf_test_dataset, weights) + biases)"
   ]
  },
  {
   "cell_type": "markdown",
   "metadata": {
    "colab_type": "text",
    "id": "XmVZESmtG4JH"
   },
   "source": [
    "Let's run it:"
   ]
  },
  {
   "cell_type": "code",
   "execution_count": 10,
   "metadata": {
    "cellView": "both",
    "colab": {
     "autoexec": {
      "startup": false,
      "wait_interval": 0
     },
     "output_extras": [
      {
       "item_id": 6
      }
     ]
    },
    "colab_type": "code",
    "executionInfo": {
     "elapsed": 66292,
     "status": "ok",
     "timestamp": 1449848003013,
     "user": {
      "color": "",
      "displayName": "",
      "isAnonymous": false,
      "isMe": true,
      "permissionId": "",
      "photoUrl": "",
      "sessionId": "0",
      "userId": ""
     },
     "user_tz": 480
    },
    "id": "FoF91pknG_YW",
    "outputId": "d255c80e-954d-4183-ca1c-c7333ce91d0a",
    "scrolled": true
   },
   "outputs": [
    {
     "name": "stdout",
     "output_type": "stream",
     "text": [
      "Initialized\n",
      "Minibatch loss at step 0: 19.048931\n",
      "Minibatch accuracy: 8.6%\n",
      "Validation accuracy: 11.4%\n",
      "Minibatch loss at step 500: 2.139942\n",
      "Minibatch accuracy: 73.4%\n",
      "Validation accuracy: 75.3%\n",
      "Minibatch loss at step 1000: 1.250544\n",
      "Minibatch accuracy: 77.3%\n",
      "Validation accuracy: 76.2%\n",
      "Minibatch loss at step 1500: 1.472881\n",
      "Minibatch accuracy: 74.2%\n",
      "Validation accuracy: 76.6%\n",
      "Minibatch loss at step 2000: 1.040406\n",
      "Minibatch accuracy: 74.2%\n",
      "Validation accuracy: 77.4%\n",
      "Minibatch loss at step 2500: 0.953732\n",
      "Minibatch accuracy: 80.5%\n",
      "Validation accuracy: 77.8%\n",
      "Minibatch loss at step 3000: 1.058678\n",
      "Minibatch accuracy: 71.9%\n",
      "Validation accuracy: 78.5%\n",
      "Minibatch loss at step 3500: 0.780645\n",
      "Minibatch accuracy: 78.1%\n",
      "Validation accuracy: 78.8%\n",
      "Minibatch loss at step 4000: 0.721318\n",
      "Minibatch accuracy: 80.5%\n",
      "Validation accuracy: 78.9%\n",
      "Minibatch loss at step 4500: 0.933517\n",
      "Minibatch accuracy: 78.9%\n",
      "Validation accuracy: 79.1%\n",
      "Minibatch loss at step 5000: 0.740919\n",
      "Minibatch accuracy: 82.0%\n",
      "Validation accuracy: 79.8%\n",
      "Minibatch loss at step 5500: 0.701729\n",
      "Minibatch accuracy: 83.6%\n",
      "Validation accuracy: 80.2%\n",
      "Minibatch loss at step 6000: 0.691823\n",
      "Minibatch accuracy: 82.0%\n",
      "Validation accuracy: 79.8%\n",
      "Minibatch loss at step 6500: 0.777795\n",
      "Minibatch accuracy: 80.5%\n",
      "Validation accuracy: 80.0%\n",
      "Minibatch loss at step 7000: 0.867511\n",
      "Minibatch accuracy: 83.6%\n",
      "Validation accuracy: 80.5%\n",
      "Minibatch loss at step 7500: 0.847990\n",
      "Minibatch accuracy: 76.6%\n",
      "Validation accuracy: 80.7%\n",
      "Minibatch loss at step 8000: 0.809820\n",
      "Minibatch accuracy: 78.9%\n",
      "Validation accuracy: 80.5%\n",
      "Minibatch loss at step 8500: 0.692554\n",
      "Minibatch accuracy: 81.2%\n",
      "Validation accuracy: 80.5%\n",
      "Minibatch loss at step 9000: 0.727259\n",
      "Minibatch accuracy: 80.5%\n",
      "Validation accuracy: 81.4%\n",
      "Minibatch loss at step 9500: 0.558824\n",
      "Minibatch accuracy: 83.6%\n",
      "Validation accuracy: 81.1%\n",
      "Minibatch loss at step 10000: 0.581384\n",
      "Minibatch accuracy: 82.8%\n",
      "Validation accuracy: 80.8%\n",
      "Minibatch loss at step 10500: 0.841828\n",
      "Minibatch accuracy: 79.7%\n",
      "Validation accuracy: 80.9%\n",
      "Minibatch loss at step 11000: 0.658400\n",
      "Minibatch accuracy: 82.0%\n",
      "Validation accuracy: 81.3%\n",
      "Minibatch loss at step 11500: 0.796753\n",
      "Minibatch accuracy: 80.5%\n",
      "Validation accuracy: 81.2%\n",
      "Minibatch loss at step 12000: 0.787891\n",
      "Minibatch accuracy: 78.9%\n",
      "Validation accuracy: 81.3%\n",
      "Minibatch loss at step 12500: 0.660282\n",
      "Minibatch accuracy: 83.6%\n",
      "Validation accuracy: 80.9%\n",
      "Minibatch loss at step 13000: 0.750081\n",
      "Minibatch accuracy: 86.7%\n",
      "Validation accuracy: 81.4%\n",
      "Minibatch loss at step 13500: 0.651888\n",
      "Minibatch accuracy: 82.0%\n",
      "Validation accuracy: 81.6%\n",
      "Minibatch loss at step 14000: 0.749730\n",
      "Minibatch accuracy: 83.6%\n",
      "Validation accuracy: 81.9%\n",
      "Minibatch loss at step 14500: 0.811964\n",
      "Minibatch accuracy: 79.7%\n",
      "Validation accuracy: 81.5%\n",
      "Minibatch loss at step 15000: 0.525762\n",
      "Minibatch accuracy: 85.9%\n",
      "Validation accuracy: 81.6%\n",
      "Minibatch loss at step 15500: 0.549833\n",
      "Minibatch accuracy: 85.9%\n",
      "Validation accuracy: 81.8%\n",
      "Minibatch loss at step 16000: 0.722424\n",
      "Minibatch accuracy: 80.5%\n",
      "Validation accuracy: 81.8%\n",
      "Minibatch loss at step 16500: 0.843456\n",
      "Minibatch accuracy: 78.9%\n",
      "Validation accuracy: 81.6%\n",
      "Minibatch loss at step 17000: 0.724231\n",
      "Minibatch accuracy: 77.3%\n",
      "Validation accuracy: 81.6%\n",
      "Minibatch loss at step 17500: 0.673371\n",
      "Minibatch accuracy: 78.1%\n",
      "Validation accuracy: 82.0%\n",
      "Minibatch loss at step 18000: 0.601649\n",
      "Minibatch accuracy: 85.2%\n",
      "Validation accuracy: 81.3%\n",
      "Minibatch loss at step 18500: 0.762312\n",
      "Minibatch accuracy: 75.8%\n",
      "Validation accuracy: 80.2%\n",
      "Minibatch loss at step 19000: 0.602723\n",
      "Minibatch accuracy: 82.0%\n",
      "Validation accuracy: 81.6%\n",
      "Minibatch loss at step 19500: 0.507081\n",
      "Minibatch accuracy: 85.9%\n",
      "Validation accuracy: 81.5%\n",
      "Minibatch loss at step 20000: 0.797356\n",
      "Minibatch accuracy: 77.3%\n",
      "Validation accuracy: 82.1%\n",
      "Minibatch loss at step 20500: 0.552432\n",
      "Minibatch accuracy: 87.5%\n",
      "Validation accuracy: 82.0%\n",
      "Minibatch loss at step 21000: 0.594487\n",
      "Minibatch accuracy: 82.0%\n",
      "Validation accuracy: 80.5%\n",
      "Minibatch loss at step 21500: 0.873116\n",
      "Minibatch accuracy: 76.6%\n",
      "Validation accuracy: 81.8%\n",
      "Minibatch loss at step 22000: 0.666275\n",
      "Minibatch accuracy: 82.0%\n",
      "Validation accuracy: 81.1%\n",
      "Minibatch loss at step 22500: 0.502479\n",
      "Minibatch accuracy: 85.9%\n",
      "Validation accuracy: 82.2%\n",
      "Minibatch loss at step 23000: 0.655374\n",
      "Minibatch accuracy: 84.4%\n",
      "Validation accuracy: 81.9%\n",
      "Minibatch loss at step 23500: 0.664404\n",
      "Minibatch accuracy: 77.3%\n",
      "Validation accuracy: 82.2%\n",
      "Minibatch loss at step 24000: 0.539394\n",
      "Minibatch accuracy: 84.4%\n",
      "Validation accuracy: 81.8%\n",
      "Minibatch loss at step 24500: 0.919794\n",
      "Minibatch accuracy: 77.3%\n",
      "Validation accuracy: 82.3%\n",
      "Minibatch loss at step 25000: 0.652856\n",
      "Minibatch accuracy: 83.6%\n",
      "Validation accuracy: 81.5%\n",
      "Minibatch loss at step 25500: 0.617470\n",
      "Minibatch accuracy: 80.5%\n",
      "Validation accuracy: 80.7%\n",
      "Minibatch loss at step 26000: 0.693801\n",
      "Minibatch accuracy: 81.2%\n",
      "Validation accuracy: 82.0%\n",
      "Minibatch loss at step 26500: 0.690307\n",
      "Minibatch accuracy: 79.7%\n",
      "Validation accuracy: 81.4%\n",
      "Minibatch loss at step 27000: 0.639480\n",
      "Minibatch accuracy: 80.5%\n",
      "Validation accuracy: 82.3%\n",
      "Minibatch loss at step 27500: 0.467522\n",
      "Minibatch accuracy: 84.4%\n",
      "Validation accuracy: 82.0%\n",
      "Minibatch loss at step 28000: 0.916301\n",
      "Minibatch accuracy: 71.9%\n",
      "Validation accuracy: 82.0%\n",
      "Minibatch loss at step 28500: 0.639301\n",
      "Minibatch accuracy: 85.2%\n",
      "Validation accuracy: 82.3%\n",
      "Minibatch loss at step 29000: 0.572869\n",
      "Minibatch accuracy: 85.2%\n",
      "Validation accuracy: 82.1%\n",
      "Minibatch loss at step 29500: 0.895352\n",
      "Minibatch accuracy: 78.9%\n",
      "Validation accuracy: 82.2%\n",
      "Minibatch loss at step 30000: 0.569349\n",
      "Minibatch accuracy: 84.4%\n",
      "Validation accuracy: 82.3%\n",
      "Test accuracy: 89.1%\n"
     ]
    }
   ],
   "source": [
    "num_steps = 30001\n",
    "\n",
    "with tf.Session(graph=graph) as session:\n",
    "  tf.global_variables_initializer().run()\n",
    "  print(\"Initialized\")\n",
    "  for step in range(num_steps):\n",
    "    # Pick an offset within the training data, which has been randomized.\n",
    "    # Note: we could use better randomization across epochs.\n",
    "    offset = (step * batch_size) % (train_labels.shape[0] - batch_size)\n",
    "    # Generate a minibatch.\n",
    "    batch_data = train_dataset[offset:(offset + batch_size), :]\n",
    "    batch_labels = train_labels[offset:(offset + batch_size), :]\n",
    "    # Prepare a dictionary telling the session where to feed the minibatch.\n",
    "    # The key of the dictionary is the placeholder node of the graph to be fed,\n",
    "    # and the value is the numpy array to feed to it.\n",
    "    feed_dict = {tf_train_dataset : batch_data, tf_train_labels : batch_labels}\n",
    "    _, l, predictions = session.run(\n",
    "      [optimizer, loss, train_prediction], feed_dict=feed_dict)\n",
    "    if (step % 500 == 0):\n",
    "      print(\"Minibatch loss at step %d: %f\" % (step, l))\n",
    "      print(\"Minibatch accuracy: %.1f%%\" % accuracy(predictions, batch_labels))\n",
    "      print(\"Validation accuracy: %.1f%%\" % accuracy(\n",
    "        valid_prediction.eval(), valid_labels))\n",
    "  print(\"Test accuracy: %.1f%%\" % accuracy(test_prediction.eval(), test_labels))\n",
    "  single_layer_weights = weights.eval()"
   ]
  },
  {
   "cell_type": "markdown",
   "metadata": {
    "colab_type": "text",
    "id": "7omWxtvLLxik"
   },
   "source": [
    "---\n",
    "Problem\n",
    "-------\n",
    "\n",
    "Turn the logistic regression example with SGD into a 1-hidden layer neural network with rectified linear units [nn.relu()](https://www.tensorflow.org/versions/r0.7/api_docs/python/nn.html#relu) and 1024 hidden nodes. This model should improve your validation / test accuracy.\n",
    "\n",
    "---"
   ]
  },
  {
   "cell_type": "code",
   "execution_count": 11,
   "metadata": {
    "collapsed": true
   },
   "outputs": [],
   "source": [
    "batch_size = 128\n",
    "num_hidden_nodes = 1024\n",
    "\n",
    "\n",
    "graph = tf.Graph()\n",
    "with graph.as_default():\n",
    "    \n",
    "    #Constant Testing and Validation Data\n",
    "    tf_test_data = tf.constant(test_dataset)\n",
    "    tf_valid_data = tf.constant(valid_dataset)\n",
    "    \n",
    "    #Batch input training data for stochastic gradient descent\n",
    "    tf_training_data = tf.placeholder(dtype=tf.float32,shape=(batch_size, image_size*image_size))\n",
    "    tf_training_labels = tf.placeholder(dtype=tf.float32,shape=(batch_size,num_labels))\n",
    "    \n",
    "    #Variable weights to be optimized. Two layers\n",
    "    weights1 = tf.Variable(tf.truncated_normal([image_size*image_size,num_hidden_nodes]))\n",
    "    weights2 = tf.Variable(tf.truncated_normal([num_hidden_nodes,num_labels]))\n",
    "    biases1 = tf.Variable(tf.zeros(num_hidden_nodes))\n",
    "    biases2 = tf.Variable(tf.zeros(num_labels))\n",
    "    \n",
    "    \n",
    "    #Creating graph structure\n",
    "    hidden_layer_out = tf.nn.relu(tf.matmul(tf_training_data, weights1)+biases1)\n",
    "    logits = tf.matmul(hidden_layer_out,weights2)+biases2\n",
    "    loss = tf.reduce_mean(\n",
    "        tf.nn.softmax_cross_entropy_with_logits(logits=logits,labels=tf_training_labels))\n",
    "    \n",
    "    #Optimizer\n",
    "    optimizer = tf.train.GradientDescentOptimizer(0.5).minimize(loss=loss)\n",
    "    \n",
    "    #Output predictions\n",
    "    tf_train_preds = tf.nn.softmax(logits)\n",
    "    tf_test_preds = tf.nn.softmax(tf.matmul(tf.nn.relu(\n",
    "        tf.matmul(tf_test_data,weights1)+biases1),weights2)+biases2)\n",
    "    tf_valid_preds = tf.nn.softmax(tf.matmul(tf.nn.relu(\n",
    "        tf.matmul(tf_valid_data,weights1)+biases1),weights2)+biases2)\n",
    "    \n",
    "\n",
    "\n"
   ]
  },
  {
   "cell_type": "markdown",
   "metadata": {},
   "source": [
    "Now we run the session"
   ]
  },
  {
   "cell_type": "code",
   "execution_count": 12,
   "metadata": {
    "scrolled": true
   },
   "outputs": [
    {
     "name": "stdout",
     "output_type": "stream",
     "text": [
      "Minibatch loss at step 0: 320.106384\n",
      "Minibatch accuracy: 21.1%\n",
      "Validation accuracy: 33.0%\n",
      "Minibatch loss at step 5000: 2.921365\n",
      "Minibatch accuracy: 87.5%\n",
      "Validation accuracy: 82.7%\n",
      "Minibatch loss at step 10000: 0.926588\n",
      "Minibatch accuracy: 86.7%\n",
      "Validation accuracy: 83.9%\n",
      "Minibatch loss at step 15000: 0.304768\n",
      "Minibatch accuracy: 93.8%\n",
      "Validation accuracy: 85.0%\n",
      "Minibatch loss at step 20000: 0.538023\n",
      "Minibatch accuracy: 88.3%\n",
      "Validation accuracy: 85.3%\n",
      "Minibatch loss at step 25000: 0.364530\n",
      "Minibatch accuracy: 90.6%\n",
      "Validation accuracy: 85.2%\n",
      "Minibatch loss at step 30000: 0.312198\n",
      "Minibatch accuracy: 91.4%\n",
      "Validation accuracy: 85.8%\n",
      "Minibatch loss at step 35000: 0.257478\n",
      "Minibatch accuracy: 95.3%\n",
      "Validation accuracy: 86.2%\n",
      "Minibatch loss at step 40000: 0.213226\n",
      "Minibatch accuracy: 95.3%\n",
      "Validation accuracy: 86.6%\n",
      "Minibatch loss at step 45000: 0.130540\n",
      "Minibatch accuracy: 96.9%\n",
      "Validation accuracy: 86.5%\n",
      "Minibatch loss at step 50000: 0.112039\n",
      "Minibatch accuracy: 94.5%\n",
      "Validation accuracy: 86.9%\n",
      "Minibatch loss at step 55000: 0.194210\n",
      "Minibatch accuracy: 94.5%\n",
      "Validation accuracy: 86.9%\n",
      "Minibatch loss at step 60000: 0.120312\n",
      "Minibatch accuracy: 96.1%\n",
      "Validation accuracy: 86.8%\n",
      "Minibatch loss at step 65000: 0.254050\n",
      "Minibatch accuracy: 90.6%\n",
      "Validation accuracy: 86.9%\n",
      "Minibatch loss at step 70000: 0.123120\n",
      "Minibatch accuracy: 96.9%\n",
      "Validation accuracy: 87.2%\n",
      "Minibatch loss at step 75000: 0.153205\n",
      "Minibatch accuracy: 95.3%\n",
      "Validation accuracy: 86.3%\n",
      "Minibatch loss at step 80000: 0.034112\n",
      "Minibatch accuracy: 98.4%\n",
      "Validation accuracy: 87.3%\n",
      "Minibatch loss at step 85000: 0.052728\n",
      "Minibatch accuracy: 98.4%\n",
      "Validation accuracy: 87.4%\n",
      "Minibatch loss at step 90000: 0.048533\n",
      "Minibatch accuracy: 98.4%\n",
      "Validation accuracy: 87.3%\n",
      "Minibatch loss at step 95000: 0.110704\n",
      "Minibatch accuracy: 96.1%\n",
      "Validation accuracy: 87.2%\n",
      "Minibatch loss at step 100000: 0.021105\n",
      "Minibatch accuracy: 99.2%\n",
      "Validation accuracy: 87.4%\n",
      "Test accuracy: 93.7%\n"
     ]
    }
   ],
   "source": [
    "num_steps = 100001\n",
    "\n",
    "with tf.Session(graph=graph) as session:\n",
    "    tf.global_variables_initializer().run()\n",
    "    \n",
    "    for step in range(num_steps):\n",
    "        #not the best randomization once you have >1 epoch, but works\n",
    "        offset = (step * batch_size) % (train_labels.shape[0] - batch_size)\n",
    "        \n",
    "        #generate batches\n",
    "        batch_data = train_dataset[offset:(offset + batch_size), :]\n",
    "        batch_labels = train_labels[offset:(offset + batch_size), :].squeeze()\n",
    "        \n",
    "        #create feed-dictionary\n",
    "        feed_dict = {tf_training_data: batch_data, tf_training_labels: batch_labels}\n",
    "        \n",
    "        #run session\n",
    "        _, l, predictions = session.run([optimizer, loss, tf_train_preds], feed_dict=feed_dict)\n",
    "        if (step % 5000 == 0):\n",
    "          print(\"Minibatch loss at step %d: %f\" % (step, l))\n",
    "          print(\"Minibatch accuracy: %.1f%%\" % accuracy(predictions, batch_labels))\n",
    "          print(\"Validation accuracy: %.1f%%\" % accuracy(\n",
    "            tf_valid_preds.eval(), valid_labels))\n",
    "    print(\"Test accuracy: %.1f%%\" % accuracy(tf_test_preds.eval(), test_labels))\n",
    "        \n",
    "        "
   ]
  },
  {
   "cell_type": "markdown",
   "metadata": {},
   "source": [
    "Doing some visualization to try to see the networks"
   ]
  },
  {
   "cell_type": "code",
   "execution_count": 13,
   "metadata": {},
   "outputs": [
    {
     "name": "stdout",
     "output_type": "stream",
     "text": [
      "(784, 10)\n",
      "0\n"
     ]
    },
    {
     "data": {
      "image/png": "[encoded data removed]",
      "text/plain": [
       "<matplotlib.figure.Figure at 0x194095dbf98>"
      ]
     },
     "metadata": {},
     "output_type": "display_data"
    },
    {
     "name": "stdout",
     "output_type": "stream",
     "text": [
      "1\n"
     ]
    },
    {
     "data": {
      "image/png": "[encoded data removed]",
      "text/plain": [
       "<matplotlib.figure.Figure at 0x19409cefef0>"
      ]
     },
     "metadata": {},
     "output_type": "display_data"
    },
    {
     "name": "stdout",
     "output_type": "stream",
     "text": [
      "2\n"
     ]
    },
    {
     "data": {
      "image/png": "[encoded data removed]",
      "text/plain": [
       "<matplotlib.figure.Figure at 0x19409d79e48>"
      ]
     },
     "metadata": {},
     "output_type": "display_data"
    },
    {
     "name": "stdout",
     "output_type": "stream",
     "text": [
      "3\n"
     ]
    },
    {
     "data": {
      "image/png": "[encoded data removed]",
      "text/plain": [
       "<matplotlib.figure.Figure at 0x19409dc0b00>"
      ]
     },
     "metadata": {},
     "output_type": "display_data"
    },
    {
     "name": "stdout",
     "output_type": "stream",
     "text": [
      "4\n"
     ]
    },
    {
     "data": {
      "image/png": "[encoded data removed]",
      "text/plain": [
       "<matplotlib.figure.Figure at 0x19409dd42b0>"
      ]
     },
     "metadata": {},
     "output_type": "display_data"
    },
    {
     "name": "stdout",
     "output_type": "stream",
     "text": [
      "5\n"
     ]
    },
    {
     "data": {
      "image/png": "[encoded data removed]",
      "text/plain": [
       "<matplotlib.figure.Figure at 0x19409d8d780>"
      ]
     },
     "metadata": {},
     "output_type": "display_data"
    },
    {
     "name": "stdout",
     "output_type": "stream",
     "text": [
      "6\n"
     ]
    },
    {
     "data": {
      "image/png": "[encoded data removed]",
      "text/plain": [
       "<matplotlib.figure.Figure at 0x1940ae38b70>"
      ]
     },
     "metadata": {},
     "output_type": "display_data"
    },
    {
     "name": "stdout",
     "output_type": "stream",
     "text": [
      "7\n"
     ]
    },
    {
     "data": {
      "image/png": "[encoded data removed]",
      "text/plain": [
       "<matplotlib.figure.Figure at 0x1940ae73a90>"
      ]
     },
     "metadata": {},
     "output_type": "display_data"
    },
    {
     "name": "stdout",
     "output_type": "stream",
     "text": [
      "8\n"
     ]
    },
    {
     "data": {
      "image/png": "[encoded data removed]",
      "text/plain": [
       "<matplotlib.figure.Figure at 0x1940aeac748>"
      ]
     },
     "metadata": {},
     "output_type": "display_data"
    },
    {
     "name": "stdout",
     "output_type": "stream",
     "text": [
      "9\n"
     ]
    },
    {
     "data": {
      "image/png": "[encoded data removed]",
      "text/plain": [
       "<matplotlib.figure.Figure at 0x1940aee3f28>"
      ]
     },
     "metadata": {},
     "output_type": "display_data"
    }
   ],
   "source": [
    "import matplotlib.pyplot as plt\n",
    "single_layer_weights\n",
    "logweights = 1/(1+np.exp(np.negative(single_layer_weights)))\n",
    "print(logweights.shape)\n",
    "for i in range(10):\n",
    "    print(i)\n",
    "    weights_i = np.resize(logweights[:,i:i+1],[image_size,image_size])\n",
    "    plt.imshow(weights_i)\n",
    "    plt.show()\n"
   ]
  }
 ],
 "metadata": {
  "colab": {
   "default_view": {},
   "name": "2_fullyconnected.ipynb",
   "provenance": [],
   "version": "0.3.2",
   "views": {}
  },
  "kernelspec": {
   "display_name": "Python 3",
   "language": "python",
   "name": "python3"
  },
  "language_info": {
   "codemirror_mode": {
    "name": "ipython",
    "version": 3
   },
   "file_extension": ".py",
   "mimetype": "text/x-python",
   "name": "python",
   "nbconvert_exporter": "python",
   "pygments_lexer": "ipython3",
   "version": "3.5.4"
  }
 },
 "nbformat": 4,
 "nbformat_minor": 1
}
